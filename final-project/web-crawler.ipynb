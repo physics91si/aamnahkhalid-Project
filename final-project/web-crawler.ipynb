{
 "cells": [
  {
   "cell_type": "code",
   "execution_count": null,
   "metadata": {
    "collapsed": false
   },
   "outputs": [],
   "source": [
    "from bs4 import BeautifulSoup\n",
    "import requests\n",
    "import urllib3\n",
    "from lxml import html\n",
    "\n",
    "#extract headlines- SAMPLE from google news\n",
    "\n",
    "site_url = input(\"What is your website? \")\n",
    "response = requests.get(site_url)\n",
    "if (response.status_code == 200):\n",
    "\tpagehtml = html.fromstring(response.text)\n",
    "\n",
    "\tnews = pagehtml.xpath('//h2[@class=\"esc-lead-article-title\"] \\\n",
    "                          /a/span[@class=\"titletext\"]/text()')\n",
    "\n",
    "print(\"\\n\".join(news))\n"
   ]
  },
  {
   "cell_type": "code",
   "execution_count": null,
   "metadata": {
    "collapsed": true
   },
   "outputs": [],
   "source": [
    "from bs4 import BeautifulSoup\n",
    "import requests\n",
    "import urllib3\n",
    "from lxml import html\n",
    "\n",
    "#extract headlines- SAMPLE from google news\n",
    "\n",
    "#site_url = input(\"What is your website? \")\n",
    "response = requests.get(\"http://www.cnn.com\")\n",
    "if (response.status_code == 200):\n",
    "\tpagehtml = html.fromstring(response.text)\n",
    "\tnews= pagehtml.xpath('//h3[@class=\"cd__headline\"]\"\\##/a/span[@class=\"cd__headline-text\"]/text()')\n",
    "\t\n",
    "\n",
    "\t##news = pagehtml.xpath('//h2[@class=\"esc-lead-article-title\"] \\\n",
    "                          ##/a/span[@class=\"titletext\"]/text()')\n",
    "\n",
    "print(\"\\n\".join(news))"
   ]
  },
  {
   "cell_type": "code",
   "execution_count": null,
   "metadata": {
    "collapsed": true
   },
   "outputs": [],
   "source": [
    "from bs4 import BeautifulSoup\n",
    "import requests\n",
    "import urllib3\n",
    "from lxml import html\n",
    "\n",
    "#extract headlines- SAMPLE from google news\n",
    "\n",
    "#extract headlines- SAMPLE from google news\n",
    "\n",
    "#site_url = input(\"What is your website? \")\n",
    "response = requests.get(\"http://www.nytimes.com\")\n",
    "print(requests.head(\"http://www.nytimes.com\"))\n",
    "if (response.status_code == 200):\n",
    "\tpagehtml = html.fromstring(response.text)\n",
    "\t#news= pagehtml.xpath('//h3[@class=\"cd__headline\"] /a/span[@class=\"cd__headline-text\"]/text()')\n",
    "\tnews = pagehtml.xpath('//[@id=\"top-news\"]/h2[@class=\"story-heading\"]/a/text()')\n",
    "\t#news=pagehtml.xpath('//*[@id=\"homepage1-zone-1\"]/div[2]/div/div[3]/ul/li[1]/article/div/div/h3/a/span[1]/text()')\n",
    "\t#news = pagehtml.xpath('//ul[@class=\"cn cn-list-xs cn--idx-2 cn-container_4037A43D-2B70-57AC-A8A8-74FDC9F26490 cn--expandable cn--collapsed\"] / h2[@class=\"cn__title \"]/a/span[@class=\"cd__headline-text\"]')\n",
    " #news = pagehtml.xpath('//h2[@class=\"esc-lead-article-title\"] \\ a/span[@class=\"titletext\"]/text()')\n",
    "\n",
    "print(\"\\n\".join(news))\n"
   ]
  },
  {
   "cell_type": "code",
   "execution_count": null,
   "metadata": {
    "collapsed": true
   },
   "outputs": [],
   "source": []
  }
 ],
 "metadata": {
  "kernelspec": {
   "display_name": "Python 3",
   "language": "python",
   "name": "python3"
  },
  "language_info": {
   "codemirror_mode": {
    "name": "ipython",
    "version": 3
   },
   "file_extension": ".py",
   "mimetype": "text/x-python",
   "name": "python",
   "nbconvert_exporter": "python",
   "pygments_lexer": "ipython3",
   "version": "3.6.0"
  }
 },
 "nbformat": 4,
 "nbformat_minor": 2
}
